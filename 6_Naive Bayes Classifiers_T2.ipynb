{
 "cells": [
  {
   "cell_type": "markdown",
   "metadata": {},
   "source": [
    "# A Notebook to Use Naïve Bayes Classifiers"
   ]
  },
  {
   "cell_type": "markdown",
   "metadata": {},
   "source": [
    "This notebook shows how to train a Naïve Bayes classifier to classify unseen instances.\n",
    " \n",
    "* The variable \"dataset\" stores the name of text file that you input and is passed as an argument of the function \"loadDataSet()\".  \n",
    "* After processing, the loadDataSet function will output, or in other words, return two variables, \"instances\", and \"labels\".  \n",
    "* \"instances\" stores the feature vector of each instance. \"labels\" stores the labels of all instances.   \n",
    "* The variable \"n_foldCV\" stores the number of times of n-fold cross validation that you input.\n",
    "* The variable \"choice\" stores your choice of classifiers. \"instances\", \"labels\" and \"choice\" are the arguments of function chooseClassifier and the function return a variable \"clf\".\n",
    "* The variable \"clf\" stores up to three Naive Bayes models, and it can be fitted with \"instances\" and \"labels\". Once the model are trained, they can be used to predict unseen instances. "
   ]
  },
  {
   "cell_type": "code",
   "execution_count": 1,
   "metadata": {},
   "outputs": [],
   "source": [
    "import numpy as np\n",
    "from sklearn.naive_bayes import BernoulliNB,GaussianNB,MultinomialNB\n",
    "from sklearn.model_selection import cross_val_score\n",
    "\n",
    "def loadDataSet(dataset): \n",
    "    with open(dataset) as f:\n",
    "        data=f.readlines()\n",
    "        attributes=data[0].rstrip().split(',')[:-1]\n",
    "        instances=[entry.rstrip().split(',')[:-1] for entry in data[1:]]\n",
    "        dataArray=[]\n",
    "        Dict={}\n",
    "        for i in range(len(instances[0])):\n",
    "            try:\n",
    "                dataArray.append([float(instance[i]) for instance in instances])\n",
    "            except:\n",
    "                encodedData,vocab=encode([instance[i] for instance in instances])\n",
    "                dataArray.append(encodedData)\n",
    "                Dict[i]=vocab\n",
    "                print(attributes[i],': ',list(vocab.items()))\n",
    "        instances=np.array(dataArray).T\n",
    "        labels=[entry.rstrip().split(',')[-1] for entry in data[1:]]\n",
    "        return instances,labels,Dict\n",
    "\n",
    "def encode(data):\n",
    "    vocab={}\n",
    "    uniqueVals=list(set(data))\n",
    "    for Val in uniqueVals:\n",
    "        vocab[Val]=uniqueVals.index(Val)\n",
    "    encodedData=list(map(uniqueVals.index,data))\n",
    "    return encodedData,vocab\n",
    "\n",
    "\n",
    "def predict(testset):\n",
    "    if \"clf_G\" in globals():\n",
    "        prediction=clf_G.predict(testset)\n",
    "        print(\"GaussianNB: \",prediction)\n",
    "    if \"clf_M\" in globals():\n",
    "        prediction=clf_M.predict(testset)\n",
    "        print(\"MultinomialNB: \",prediction)"
   ]
  },
  {
   "cell_type": "markdown",
   "metadata": {},
   "source": [
    "## Training: Build a Naïve Bayes Classifier##\n",
    "The cell below asks for a dataset. It trains a Naïve Bayes classifier. There are three Naive Bayes classifiers provided. They are based on different math fundations and might have different performance over different datasets.   \n",
    "\n",
    "We provide two classification datasets that could be applied to the Naïve Bayes algorithms. \n",
    "* [\"iris.txt\"](https://archive.ics.uci.edu/ml/datasets/iris) has four attributes with continuous values describing three different iris species.\n",
    "* [\"lenses.txt\"](https://archive.ics.uci.edu/ml/datasets/lenses) contains four attributes with discrete values and three classes."
   ]
  },
  {
   "cell_type": "markdown",
   "metadata": {},
   "source": [
    "### Gaussian Naïve Bayes Classifier"
   ]
  },
  {
   "cell_type": "code",
   "execution_count": 2,
   "metadata": {},
   "outputs": [
    {
     "name": "stdout",
     "output_type": "stream",
     "text": [
      "Please Enter Your Data Set:C:/Users/Sam/Desktop/INF549/iris.txt\n",
      "Gaussian Naive Bayes is used.\n"
     ]
    }
   ],
   "source": [
    "dataset=input(\"Please Enter Your Data Set:\")\n",
    "instances,labels,Dict=loadDataSet(dataset)\n",
    "clf_G = GaussianNB()\n",
    "clf_G.fit(instances, labels)\n",
    "print(\"Gaussian Naive Bayes is used.\")"
   ]
  },
  {
   "cell_type": "markdown",
   "metadata": {},
   "source": [
    "### Multinomial Naive Bayes Classifier"
   ]
  },
  {
   "cell_type": "code",
   "execution_count": 3,
   "metadata": {},
   "outputs": [
    {
     "name": "stdout",
     "output_type": "stream",
     "text": [
      "Please Enter Your Data Set:C:/Users/Sam/Desktop/INF549/iris.txt\n",
      "Multinomial Naive Bayes is used.\n"
     ]
    }
   ],
   "source": [
    "dataset=input(\"Please Enter Your Data Set:\")\n",
    "instances,labels,Dict=loadDataSet(dataset)\n",
    "clf_M = MultinomialNB()\n",
    "clf_M.fit(instances, labels)\n",
    "print(\"Multinomial Naive Bayes is used.\")"
   ]
  },
  {
   "cell_type": "markdown",
   "metadata": {
    "collapsed": true
   },
   "source": [
    "## Predict unseen instances##\n",
    "When you are prompted to input a test set, please create an example of an instance that looks like the instances in the training set.  \n",
    "\n",
    "Each feature value is separated with a comma, and should have the same length as the instances in the training set. "
   ]
  },
  {
   "cell_type": "code",
   "execution_count": 5,
   "metadata": {},
   "outputs": [
    {
     "name": "stdout",
     "output_type": "stream",
     "text": [
      "Please Enter Your Test Set:4.8,3,1.1,0.2\n"
     ]
    }
   ],
   "source": [
    "testset=input('Please Enter Your Test Set:')\n",
    "testset=testset.split(\",\")\n",
    "temp=[]\n",
    "for i in range(len(testset)):\n",
    "    try:\n",
    "        temp.append(float(testset[i]))\n",
    "    except:\n",
    "        temp.append(Dict[i][testset[i]])\n",
    "testset=np.array(temp).reshape((1,len(temp)))"
   ]
  },
  {
   "cell_type": "code",
   "execution_count": 6,
   "metadata": {},
   "outputs": [
    {
     "name": "stdout",
     "output_type": "stream",
     "text": [
      "GaussianNB:  ['Iris-setosa']\n",
      "MultinomialNB:  ['Iris-setosa']\n"
     ]
    }
   ],
   "source": [
    "predict(testset)"
   ]
  },
  {
   "cell_type": "markdown",
   "metadata": {},
   "source": [
    "## Evaluate a classifier##\n",
    "The following cell will output the accuracy score in each run and the accuracy estimate of the model under 95% confidence interval.  "
   ]
  },
  {
   "cell_type": "markdown",
   "metadata": {},
   "source": [
    "### Gaussian Naïve Bayes Classifier"
   ]
  },
  {
   "cell_type": "code",
   "execution_count": 7,
   "metadata": {},
   "outputs": [
    {
     "name": "stdout",
     "output_type": "stream",
     "text": [
      "Please Enter Your Test Data:C:/Users/Sam/Desktop/INF549/iris.txt\n",
      "Please Enter the Number of Folds:10\n",
      "======GaussianNB======\n",
      "[0.93333333,0.93333333,1.        ,0.93333333,0.93333333,0.93333333,\n",
      " 0.86666667,1.        ,1.        ,1.        ]\n",
      "Accuracy: 0.95 (+/- 0.09)\n"
     ]
    }
   ],
   "source": [
    "dataset=input('Please Enter Your Test Data:')\n",
    "n_foldCV=int(input(\"Please Enter the Number of Folds:\"))\n",
    "instances,labels,Dict=loadDataSet(dataset)\n",
    "clf_G = GaussianNB()\n",
    "scores = cross_val_score(clf_G, instances, labels, cv=n_foldCV)\n",
    "print(\"======GaussianNB======\")\n",
    "print(np.array2string(scores,separator=\",\"))\n",
    "print(\"Accuracy: %0.2f (+/- %0.2f)\" % (scores.mean(), scores.std() * 2))"
   ]
  },
  {
   "cell_type": "markdown",
   "metadata": {},
   "source": [
    "### Multinomial Naive Bayes"
   ]
  },
  {
   "cell_type": "code",
   "execution_count": 8,
   "metadata": {},
   "outputs": [
    {
     "name": "stdout",
     "output_type": "stream",
     "text": [
      "Please Enter Your Test Data:C:/Users/Sam/Desktop/INF549/iris.txt\n",
      "Please Enter the Number of Folds:10\n",
      "======MultinomialNB======\n",
      "[1.        ,1.        ,1.        ,0.93333333,0.86666667,0.93333333,\n",
      " 0.8       ,1.        ,1.        ,1.        ]\n",
      "Accuracy: 0.95 (+/- 0.13)\n"
     ]
    }
   ],
   "source": [
    "dataset=input('Please Enter Your Test Data:')\n",
    "n_foldCV=int(input(\"Please Enter the Number of Folds:\"))\n",
    "instances,labels,Dict=loadDataSet(dataset)\n",
    "clf_M = MultinomialNB()\n",
    "scores = cross_val_score(clf_M, instances, labels, cv=n_foldCV)\n",
    "print(\"======MultinomialNB======\")\n",
    "print(np.array2string(scores,separator=\",\"))\n",
    "print(\"Accuracy: %0.2f (+/- %0.2f)\" % (scores.mean(), scores.std() * 2))"
   ]
  },
  {
   "cell_type": "markdown",
   "metadata": {},
   "source": [
    "### Extra Credit:  Bernoulii Naïve Bayes Classifier\n",
    "Try to train a Bernoulli Naïve Bayes classifier on any of the dataset and report its performance. Does it perform well or not? If not, can you explain why it doesn't work well on the dataset and give some solutions? You don't need to write codes to implement your solutions, just write them down in your report."
   ]
  },
  {
   "cell_type": "code",
   "execution_count": 14,
   "metadata": {},
   "outputs": [
    {
     "name": "stdout",
     "output_type": "stream",
     "text": [
      "Please Enter Your Test Data:C:/Users/Sam/Desktop/INF549/Homework 3/Datasets/iris.txt\n",
      "Please Enter the Number of Folds:10\n",
      "======BernoulliNB======\n",
      "[0.33333333,0.33333333,0.33333333,0.33333333,0.33333333,0.33333333,\n",
      " 0.33333333,0.33333333,0.33333333,0.33333333]\n",
      "Accuracy: 0.33 (+/- 0.00)\n"
     ]
    }
   ],
   "source": [
    "dataset=input('Please Enter Your Test Data:')\n",
    "n_foldCV=int(input(\"Please Enter the Number of Folds:\"))\n",
    "instances,labels,Dict=loadDataSet(dataset)\n",
    "clf_B = BernoulliNB()\n",
    "scores = cross_val_score(clf_B, instances, labels, cv=n_foldCV)\n",
    "print(\"======BernoulliNB======\")\n",
    "print(np.array2string(scores,separator=\",\"))\n",
    "print(\"Accuracy: %0.2f (+/- %0.2f)\" % (scores.mean(), scores.std() * 2))"
   ]
  },
  {
   "cell_type": "markdown",
   "metadata": {
    "collapsed": true
   },
   "source": [
    "\n",
    "\n",
    "Guassian Naive Bayes model assumes the data to be Guassian or Normal distribution with mean=0 SD=1. It is generally used for continous data.\n",
    "Multiomial Naive Bayes model counts the frequency of the events that occur.\n",
    "Bernoulli Naive Bayes model is similar to Multinomial with the difference being instead of counting the frequency of the event occurred, it only describes whether or not an event occurred.\n",
    "In the example above I ran Iris Data set in both Q1 and Q2 to compare the accuracies if various classifiers. Iris dataset cointains real valued data hence Gaussian would be more suitable. \n",
    "Given these characterstics of the model we can infer that the Bernoulli Naive Bayes model does not seem to be the correct choice for a dataset like Iris.\n",
    "\n",
    "Bernoulli is used in cases with binary features. Multinom treats features as event probablities. Since iris is non binary and real valued Guassian and multinom works best for the dataset.\n",
    "\n",
    "When we use lenses.txt the accuracy improves to 72% from 33%(for Iris). Since Bernoulli is designed for binary/boolean features. If it encounters any other kind of data a BernoulliNB will binarize its input i.e., there may be multiple features but each one is assumed to be a binary-valued (Bernoulli, boolean) variable. Lenses is categorical whereas Iris is real valued hence the accuracy is better with respect to lenses data set\n"
   ]
  }
 ],
 "metadata": {
  "anaconda-cloud": {},
  "kernelspec": {
   "display_name": "Python 3",
   "language": "python",
   "name": "python3"
  },
  "language_info": {
   "codemirror_mode": {
    "name": "ipython",
    "version": 3
   },
   "file_extension": ".py",
   "mimetype": "text/x-python",
   "name": "python",
   "nbconvert_exporter": "python",
   "pygments_lexer": "ipython3",
   "version": "3.7.1"
  }
 },
 "nbformat": 4,
 "nbformat_minor": 2
}
